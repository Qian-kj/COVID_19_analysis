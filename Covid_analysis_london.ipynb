{
 "cells": [
  {
   "cell_type": "markdown",
   "metadata": {},
   "source": [
    "# COVID-19 analysis in London\n"
   ]
  },
  {
   "cell_type": "code",
   "execution_count": 22,
   "metadata": {},
   "outputs": [],
   "source": [
    "import numpy as np\n",
    "import pandas as pd\n",
    "import matplotlib.pyplot as plt"
   ]
  },
  {
   "cell_type": "markdown",
   "metadata": {},
   "source": [
    "\n",
    "### 1.1: Reporting number of COVID-19 cases in each London local authority  (2 marks)\n",
    "First, read the “cases.csv” dataset into a dataframe. Create a new dataframe where rows are the unique names of London local authorities and the columns are the total number of covid cases in each London local authority (include both count columns in the starting dataframe)."
   ]
  },
  {
   "cell_type": "code",
   "execution_count": 23,
   "metadata": {},
   "outputs": [
    {
     "name": "stderr",
     "output_type": "stream",
     "text": [
      "D:\\Asoftware\\Anaconda\\lib\\site-packages\\ipykernel_launcher.py:7: SettingWithCopyWarning: \n",
      "A value is trying to be set on a copy of a slice from a DataFrame.\n",
      "Try using .loc[row_indexer,col_indexer] = value instead\n",
      "\n",
      "See the caveats in the documentation: http://pandas.pydata.org/pandas-docs/stable/indexing.html#indexing-view-versus-copy\n",
      "  import sys\n"
     ]
    }
   ],
   "source": [
    "df_pp = pd.read_csv('C:/Users/qiankj/Desktop/coursework2/data_for_part1/population.csv')\n",
    "#read csv\n",
    "df_cs = pd.read_csv('C:/Users/qiankj/Desktop/coursework2/data_for_part1/cases.csv')\n",
    "#new dataframe\n",
    "df_cs_ac = df_cs[['Local authority','covid_19_deaths']]\n",
    "df_cs_ac['covid_19_deaths_per_thousand'] = df_pp['total_population_mid_2018'].mul(df_cs['covid_19_deaths_per_thousand']).div(1000)"
   ]
  },
  {
   "cell_type": "code",
   "execution_count": 24,
   "metadata": {
    "pycharm": {
     "name": "#%%\n"
    }
   },
   "outputs": [
    {
     "data": {
      "text/html": [
       "<div>\n",
       "<style scoped>\n",
       "    .dataframe tbody tr th:only-of-type {\n",
       "        vertical-align: middle;\n",
       "    }\n",
       "\n",
       "    .dataframe tbody tr th {\n",
       "        vertical-align: top;\n",
       "    }\n",
       "\n",
       "    .dataframe thead th {\n",
       "        text-align: right;\n",
       "    }\n",
       "</style>\n",
       "<table border=\"1\" class=\"dataframe\">\n",
       "  <thead>\n",
       "    <tr style=\"text-align: right;\">\n",
       "      <th></th>\n",
       "      <th>Local authority</th>\n",
       "      <th>covid_19_deaths</th>\n",
       "      <th>covid_19_deaths_per_thousand</th>\n",
       "    </tr>\n",
       "  </thead>\n",
       "  <tbody>\n",
       "    <tr>\n",
       "      <th>0</th>\n",
       "      <td>Barking and Dagenham</td>\n",
       "      <td>103</td>\n",
       "      <td>103.0</td>\n",
       "    </tr>\n",
       "    <tr>\n",
       "      <th>1</th>\n",
       "      <td>Barnet</td>\n",
       "      <td>287</td>\n",
       "      <td>287.0</td>\n",
       "    </tr>\n",
       "    <tr>\n",
       "      <th>2</th>\n",
       "      <td>Bexley</td>\n",
       "      <td>125</td>\n",
       "      <td>125.0</td>\n",
       "    </tr>\n",
       "    <tr>\n",
       "      <th>3</th>\n",
       "      <td>Brent</td>\n",
       "      <td>304</td>\n",
       "      <td>304.0</td>\n",
       "    </tr>\n",
       "    <tr>\n",
       "      <th>4</th>\n",
       "      <td>Bromley</td>\n",
       "      <td>152</td>\n",
       "      <td>152.0</td>\n",
       "    </tr>\n",
       "    <tr>\n",
       "      <th>5</th>\n",
       "      <td>Camden</td>\n",
       "      <td>91</td>\n",
       "      <td>91.0</td>\n",
       "    </tr>\n",
       "    <tr>\n",
       "      <th>6</th>\n",
       "      <td>City of London</td>\n",
       "      <td>3</td>\n",
       "      <td>3.0</td>\n",
       "    </tr>\n",
       "    <tr>\n",
       "      <th>7</th>\n",
       "      <td>Croydon</td>\n",
       "      <td>252</td>\n",
       "      <td>252.0</td>\n",
       "    </tr>\n",
       "    <tr>\n",
       "      <th>8</th>\n",
       "      <td>Ealing</td>\n",
       "      <td>239</td>\n",
       "      <td>239.0</td>\n",
       "    </tr>\n",
       "    <tr>\n",
       "      <th>9</th>\n",
       "      <td>Enfield</td>\n",
       "      <td>220</td>\n",
       "      <td>220.0</td>\n",
       "    </tr>\n",
       "    <tr>\n",
       "      <th>10</th>\n",
       "      <td>Greenwich</td>\n",
       "      <td>140</td>\n",
       "      <td>140.0</td>\n",
       "    </tr>\n",
       "    <tr>\n",
       "      <th>11</th>\n",
       "      <td>Hackney</td>\n",
       "      <td>146</td>\n",
       "      <td>146.0</td>\n",
       "    </tr>\n",
       "    <tr>\n",
       "      <th>12</th>\n",
       "      <td>Hammersmith and Fulham</td>\n",
       "      <td>100</td>\n",
       "      <td>100.0</td>\n",
       "    </tr>\n",
       "    <tr>\n",
       "      <th>13</th>\n",
       "      <td>Haringey</td>\n",
       "      <td>168</td>\n",
       "      <td>168.0</td>\n",
       "    </tr>\n",
       "    <tr>\n",
       "      <th>14</th>\n",
       "      <td>Harrow</td>\n",
       "      <td>241</td>\n",
       "      <td>241.0</td>\n",
       "    </tr>\n",
       "    <tr>\n",
       "      <th>15</th>\n",
       "      <td>Havering</td>\n",
       "      <td>166</td>\n",
       "      <td>166.0</td>\n",
       "    </tr>\n",
       "    <tr>\n",
       "      <th>16</th>\n",
       "      <td>Hillingdon</td>\n",
       "      <td>164</td>\n",
       "      <td>164.0</td>\n",
       "    </tr>\n",
       "    <tr>\n",
       "      <th>17</th>\n",
       "      <td>Hounslow</td>\n",
       "      <td>120</td>\n",
       "      <td>120.0</td>\n",
       "    </tr>\n",
       "    <tr>\n",
       "      <th>18</th>\n",
       "      <td>Islington</td>\n",
       "      <td>88</td>\n",
       "      <td>88.0</td>\n",
       "    </tr>\n",
       "    <tr>\n",
       "      <th>19</th>\n",
       "      <td>Kensington and Chelsea</td>\n",
       "      <td>84</td>\n",
       "      <td>84.0</td>\n",
       "    </tr>\n",
       "    <tr>\n",
       "      <th>20</th>\n",
       "      <td>Kingston upon Thames</td>\n",
       "      <td>57</td>\n",
       "      <td>57.0</td>\n",
       "    </tr>\n",
       "    <tr>\n",
       "      <th>21</th>\n",
       "      <td>Lambeth</td>\n",
       "      <td>165</td>\n",
       "      <td>165.0</td>\n",
       "    </tr>\n",
       "    <tr>\n",
       "      <th>22</th>\n",
       "      <td>Lewisham</td>\n",
       "      <td>172</td>\n",
       "      <td>172.0</td>\n",
       "    </tr>\n",
       "    <tr>\n",
       "      <th>23</th>\n",
       "      <td>Merton</td>\n",
       "      <td>117</td>\n",
       "      <td>117.0</td>\n",
       "    </tr>\n",
       "    <tr>\n",
       "      <th>24</th>\n",
       "      <td>Newham</td>\n",
       "      <td>208</td>\n",
       "      <td>208.0</td>\n",
       "    </tr>\n",
       "    <tr>\n",
       "      <th>25</th>\n",
       "      <td>Redbridge</td>\n",
       "      <td>174</td>\n",
       "      <td>174.0</td>\n",
       "    </tr>\n",
       "    <tr>\n",
       "      <th>26</th>\n",
       "      <td>Richmond upon Thames</td>\n",
       "      <td>77</td>\n",
       "      <td>77.0</td>\n",
       "    </tr>\n",
       "    <tr>\n",
       "      <th>27</th>\n",
       "      <td>Southwark</td>\n",
       "      <td>156</td>\n",
       "      <td>156.0</td>\n",
       "    </tr>\n",
       "    <tr>\n",
       "      <th>28</th>\n",
       "      <td>Sutton</td>\n",
       "      <td>96</td>\n",
       "      <td>96.0</td>\n",
       "    </tr>\n",
       "    <tr>\n",
       "      <th>29</th>\n",
       "      <td>Tower Hamlets</td>\n",
       "      <td>132</td>\n",
       "      <td>132.0</td>\n",
       "    </tr>\n",
       "    <tr>\n",
       "      <th>30</th>\n",
       "      <td>Waltham Forest</td>\n",
       "      <td>151</td>\n",
       "      <td>151.0</td>\n",
       "    </tr>\n",
       "    <tr>\n",
       "      <th>31</th>\n",
       "      <td>Wandsworth</td>\n",
       "      <td>132</td>\n",
       "      <td>132.0</td>\n",
       "    </tr>\n",
       "    <tr>\n",
       "      <th>32</th>\n",
       "      <td>Westminster</td>\n",
       "      <td>120</td>\n",
       "      <td>120.0</td>\n",
       "    </tr>\n",
       "  </tbody>\n",
       "</table>\n",
       "</div>"
      ],
      "text/plain": [
       "           Local authority  covid_19_deaths  covid_19_deaths_per_thousand\n",
       "0     Barking and Dagenham              103                         103.0\n",
       "1                   Barnet              287                         287.0\n",
       "2                   Bexley              125                         125.0\n",
       "3                    Brent              304                         304.0\n",
       "4                  Bromley              152                         152.0\n",
       "5                   Camden               91                          91.0\n",
       "6           City of London                3                           3.0\n",
       "7                  Croydon              252                         252.0\n",
       "8                   Ealing              239                         239.0\n",
       "9                  Enfield              220                         220.0\n",
       "10               Greenwich              140                         140.0\n",
       "11                 Hackney              146                         146.0\n",
       "12  Hammersmith and Fulham              100                         100.0\n",
       "13                Haringey              168                         168.0\n",
       "14                  Harrow              241                         241.0\n",
       "15                Havering              166                         166.0\n",
       "16              Hillingdon              164                         164.0\n",
       "17                Hounslow              120                         120.0\n",
       "18               Islington               88                          88.0\n",
       "19  Kensington and Chelsea               84                          84.0\n",
       "20    Kingston upon Thames               57                          57.0\n",
       "21                 Lambeth              165                         165.0\n",
       "22                Lewisham              172                         172.0\n",
       "23                  Merton              117                         117.0\n",
       "24                  Newham              208                         208.0\n",
       "25               Redbridge              174                         174.0\n",
       "26    Richmond upon Thames               77                          77.0\n",
       "27               Southwark              156                         156.0\n",
       "28                  Sutton               96                          96.0\n",
       "29           Tower Hamlets              132                         132.0\n",
       "30          Waltham Forest              151                         151.0\n",
       "31              Wandsworth              132                         132.0\n",
       "32             Westminster              120                         120.0"
      ]
     },
     "execution_count": 24,
     "metadata": {},
     "output_type": "execute_result"
    }
   ],
   "source": [
    "#group by each Local authority\n",
    "grp_la=df_cs_ac.groupby(['Local authority'],as_index=False)\n",
    "#Sum the cases\n",
    "df_ca = grp_la[['covid_19_deaths','covid_19_deaths_per_thousand']].agg(np.sum)\n",
    "\n",
    "df_ca"
   ]
  },
  {
   "cell_type": "markdown",
   "metadata": {},
   "source": [
    "### 1.2: Calculating percentage of COVID-19 cases in each London local authority (2 marks)\n",
    "Read the “population.csv” dataset and calculate the percentage of covid cases in each city of London region according to the total population and add it as a new column to the datafame. Sort the dataframe according to this column.\n"
   ]
  },
  {
   "cell_type": "code",
   "execution_count": 25,
   "metadata": {},
   "outputs": [
    {
     "name": "stdout",
     "output_type": "stream",
     "text": [
      "         Local authority  covid_19_deaths  covid_19_deaths_per_thousand  \\\n",
      "20  Kingston upon Thames               57                          57.0   \n",
      "6         City of London                3                           3.0   \n",
      "5                 Camden               91                          91.0   \n",
      "18             Islington               88                          88.0   \n",
      "26  Richmond upon Thames               77                          77.0   \n",
      "\n",
      "    Percentage of covid cases(%)  \n",
      "20                      0.032484  \n",
      "6                       0.034459  \n",
      "5                       0.034703  \n",
      "18                      0.036798  \n",
      "26                      0.039105  \n"
     ]
    }
   ],
   "source": [
    "#read csv\n",
    "df_pp = pd.read_csv('C:/Users/qiankj/Desktop/coursework2/data_for_part1/population.csv')\n",
    "df_pp.head()\n",
    "\n",
    "grp_ttl=df_pp.groupby(['Local authority'],as_index=False)\n",
    "#Sum the cases\n",
    "total_p = grp_ttl['total_population_mid_2018'].agg(np.sum)\n",
    "#calculate the percentage of covid cases\n",
    "total_p['percentage of covid cases'] = df_ca['covid_19_deaths'].div(total_p['total_population_mid_2018'], axis=0)\n",
    "#creat a new column\n",
    "df_ca['Percentage of covid cases(%)']=total_p['percentage of covid cases']\n",
    "#sort value\n",
    "df_ca=df_ca.sort_values(by=['Percentage of covid cases(%)'],ascending=True)\n",
    "#change into \"%\"\n",
    "df_ca['Percentage of covid cases(%)'] = df_ca['Percentage of covid cases(%)'].apply(lambda x: x*100)\n",
    "print(df_ca.head())"
   ]
  },
  {
   "cell_type": "markdown",
   "metadata": {},
   "source": [
    "### 1.3: Finding the largest and smallest population based on ethnicity group in each city of London (3 marks)\n",
    "\n",
    "Read the “ethnic.csv” dataset and calculate the population of different ethnicity groups in each London borough using column “total\\_population\\_mid\\_2018” from the first dataset “cases.csv”. Plot a bar chart to compare cases in each ethnicity group for each London local authority."
   ]
  },
  {
   "cell_type": "code",
   "execution_count": 26,
   "metadata": {},
   "outputs": [],
   "source": [
    "#import data\n",
    "df_et = pd.read_csv('C:/Users/qiankj/Desktop/coursework2/data_for_part1/ethnic.csv')"
   ]
  },
  {
   "cell_type": "code",
   "execution_count": 27,
   "metadata": {},
   "outputs": [
    {
     "name": "stdout",
     "output_type": "stream",
     "text": [
      "        Local Authority  all_bame_population  all_black_population  \\\n",
      "0  Barking and Dagenham                89023                 42367   \n",
      "1                Barnet               142489                 30558   \n",
      "2                Bexley                45445                 21469   \n",
      "3                 Brent               212065                 62885   \n",
      "4               Bromley                52610                 20397   \n",
      "\n",
      "   pakistani_or_bangladeshi_population  all_indian_population  \n",
      "0                                18185                   8654  \n",
      "1                                 8526                  31026  \n",
      "2                                 1597                   7512  \n",
      "3                                17217                  62184  \n",
      "4                                 2432                   6666  \n"
     ]
    },
    {
     "data": {
      "image/png": "[encoded data removed]",
      "text/plain": [
       "<Figure size 2160x1008 with 1 Axes>"
      ]
     },
     "metadata": {
      "needs_background": "light"
     },
     "output_type": "display_data"
    }
   ],
   "source": [
    "#BAME population\n",
    "df_et['all_bame_population']=df_et['all_bame_prop'].mul(df_pp['total_population_mid_2018']).astype(\"int\")\n",
    "\n",
    "#Black population\n",
    "df_et['all_black_population']=df_et['all_black_prop'].mul(df_pp['total_population_mid_2018']).astype(\"int\")\n",
    "\n",
    "#Pakistani or bangladeshi population\n",
    "df_et['pakistani_or_bangladeshi_population']=df_et['pakistani_or_bangladeshi_prop'].mul(df_pp['total_population_mid_2018']).astype(\"int\")\n",
    "\n",
    "#Indian population\n",
    "df_et['all_indian_population']=df_et['all_indian_prop'].mul(df_pp['total_population_mid_2018']).astype(\"int\")\n",
    "\n",
    "pp_et = df_et.groupby([\"Local Authority\"],as_index=False)\n",
    "df_pp_et = pp_et[['all_bame_population','all_black_population',\n",
    "                 'pakistani_or_bangladeshi_population','all_indian_population']].aggregate(np.sum)\n",
    "\n",
    "print(df_pp_et.head())\n",
    "#Plotting\n",
    "fig = plt.figure(figsize=(30,14))\n",
    "plot_X = df_pp_et[\"Local Authority\"]\n",
    "plot_Y_bame = df_pp_et[\"all_bame_population\"]\n",
    "plot_Y_black = df_pp_et[\"all_black_population\"]\n",
    "plot_Y_pb = df_pp_et[\"pakistani_or_bangladeshi_population\"]\n",
    "plot_Y_indian = df_pp_et[\"all_indian_population\"]\n",
    "#bame\n",
    "plt.bar(plot_X,plot_Y_bame)\n",
    "#black\n",
    "plt.bar(plot_X,plot_Y_black)\n",
    "#pakistani_or_bangladeshi\n",
    "plt.bar(plot_X,plot_Y_pb)\n",
    "#indian\n",
    "plt.bar(plot_X,plot_Y_indian)\n",
    "plt.title(\"Population numbers of different ethnic\")\n",
    "plt.legend([\"Bame\",\"Black\",\"Pakistani or bangladeshi\",\"Indian\"])\n",
    "plt.xlabel('Local authority')\n",
    "plt.ylabel('Population numbers')\n",
    "plt.tick_params(axis='x', labelsize=8)\n",
    "plt.xticks(rotation=-40)\n",
    "plt.show()"
   ]
  },
  {
   "cell_type": "markdown",
   "metadata": {},
   "source": [
    "### 1-4: Analysing the medical conditions of each region (3 marks)\n",
    "Read the “medical.csv” dataset. Calculate total percentage of patients with “Hypertension”, “Obesity (18+)”, “Diabetes”, “Asthma”, and “Coronary heart disease” for each London local authority. For each medical condition, draw a boxplot of medical case frequencies for the 5 regions with the highest \"total\\_registered\\_patient\". Then, add a new column to the daraframe from section 1.2 to show the medical conditions with the highest number patients in each London borough.  "
   ]
  },
  {
   "cell_type": "code",
   "execution_count": 28,
   "metadata": {
    "pycharm": {
     "name": "#%%\n"
    }
   },
   "outputs": [
    {
     "name": "stdout",
     "output_type": "stream",
     "text": [
      "    MSOA11CD                  MSOA11NM       Local authority  \\\n",
      "0  E02000001        City of London 001        City of London   \n",
      "1  E02000002  Barking and Dagenham 001  Barking and Dagenham   \n",
      "2  E02000003  Barking and Dagenham 002  Barking and Dagenham   \n",
      "3  E02000004  Barking and Dagenham 003  Barking and Dagenham   \n",
      "4  E02000005  Barking and Dagenham 004  Barking and Dagenham   \n",
      "\n",
      "   total_registered_patients  Hypertension  Obesity (18+)  Diabetes    Asthma  \\\n",
      "0                       8584      682.4280       310.7408  231.7680  264.3872   \n",
      "1                       8315      769.9690       511.3725  414.9185  325.1165   \n",
      "2                      11873     1226.4809       902.3480  687.4467  550.9072   \n",
      "3                       6852      639.9768       572.8272  339.1740  245.3016   \n",
      "4                      11150     1044.7550       980.0850  574.2250  474.9900   \n",
      "\n",
      "   Coronary heart disease  \n",
      "0                128.7600  \n",
      "1                156.3220  \n",
      "2                217.2759  \n",
      "3                132.2436  \n",
      "4                163.9050  \n",
      "        Local authority  total_registered_patients  Hypertension  \\\n",
      "0  Barking and Dagenham                     235900      0.098469   \n",
      "1                Barnet                     425715      0.105215   \n",
      "2                Bexley                     253510      0.121087   \n",
      "3                 Brent                     405143      0.107031   \n",
      "4               Bromley                     351070      0.123561   \n",
      "\n",
      "   Obesity (18+)  Diabetes    Asthma  Coronary heart disease  \n",
      "0       0.081250  0.053466  0.040264                0.015636  \n",
      "1       0.050195  0.047121  0.039641                0.021979  \n",
      "2       0.074201  0.049094  0.042628                0.023110  \n",
      "3       0.059175  0.061689  0.038530                0.018071  \n",
      "4       0.058134  0.042481  0.048627                0.025486  \n"
     ]
    }
   ],
   "source": [
    "#import data\n",
    "df_md = pd.read_csv('data_for_part1/medical.csv')\n",
    "df_md.head()\n",
    "ls=['Hypertension','Obesity (18+)','Diabetes','Asthma','Coronary heart disease']\n",
    "\n",
    "for i in ls:\n",
    "    df_md[i]=df_md[i].div(100)\n",
    "    df_md[i]=df_md['total_registered_patients'].mul(df_md[i])\n",
    "#group by each Local authority\n",
    "print(df_md.head())\n",
    "\n",
    "grp_md=df_md.groupby(['Local authority'],as_index=False)\n",
    "#Sum the cases\n",
    "df_md_fre = grp_md[['total_registered_patients','Hypertension','Obesity (18+)','Diabetes','Asthma','Coronary heart disease']].agg(np.sum)\n",
    "df_md_pre = grp_md[['total_registered_patients','Hypertension','Obesity (18+)','Diabetes','Asthma','Coronary heart disease']].agg(np.sum)\n",
    "\n",
    "#precentage of patients\n",
    "for i in ls:\n",
    "    df_md_pre[i] = df_md_pre[i].div(df_md_pre['total_registered_patients'], axis=0)\n",
    "print(df_md_pre.head())\n"
   ]
  },
  {
   "cell_type": "code",
   "execution_count": 29,
   "metadata": {
    "pycharm": {
     "name": "#%%\n"
    }
   },
   "outputs": [
    {
     "name": "stdout",
     "output_type": "stream",
     "text": [
      "   Local authority  total_registered_patients  Hypertension  Obesity (18+)  \\\n",
      "1           Barnet                     425715         44791          21368   \n",
      "24          Newham                     409032         37021          29372   \n",
      "3            Brent                     405143         43362          23974   \n",
      "31      Wandsworth                     394179         28095          15740   \n",
      "21         Lambeth                     390904         33025          20255   \n",
      "\n",
      "    Diabetes  Asthma  Coronary heart disease  \n",
      "1      20060   16875                    9356  \n",
      "24     23876   15850                    6185  \n",
      "3      24993   15609                    7321  \n",
      "31     12195   14605                    4592  \n",
      "21     16376   15832                    4314  \n"
     ]
    },
    {
     "data": {
      "image/png": "[encoded data removed]",
      "text/plain": [
       "<Figure size 864x432 with 1 Axes>"
      ]
     },
     "metadata": {
      "needs_background": "light"
     },
     "output_type": "display_data"
    }
   ],
   "source": [
    "#Plot a boxplot\n",
    "#data type into integars\n",
    "df_md_fre[ls]=df_md_fre[ls].astype(\"int\")\n",
    "#Sort value without ascending\n",
    "df_md_fre=df_md_fre.sort_values(by=['total_registered_patients'],ascending=False)\n",
    "#Select 5 regions with the highest total_registered_patients\n",
    "df_fv_rg=df_md_fre.loc[1:5]\n",
    "df_fv_plt=df_fv_rg[ls]\n",
    "print(df_fv_rg.head())\n",
    "#Boxplot\n",
    "plt.figure(figsize=(12, 6))\n",
    "df_fv_plt.boxplot()\n",
    "plt.xlabel('Medical conditions')\n",
    "plt.title(\"The five highest case frequencies in Local Authority\")\n",
    "plt.ylabel('Medical case frequencies')\n",
    "plt.show()"
   ]
  },
  {
   "cell_type": "code",
   "execution_count": 30,
   "metadata": {
    "pycharm": {
     "name": "#%%\n"
    }
   },
   "outputs": [
    {
     "name": "stdout",
     "output_type": "stream",
     "text": [
      "         Local authority  covid_19_deaths  covid_19_deaths_per_thousand  \\\n",
      "20  Kingston upon Thames               57                          57.0   \n",
      "6         City of London                3                           3.0   \n",
      "5                 Camden               91                          91.0   \n",
      "18             Islington               88                          88.0   \n",
      "26  Richmond upon Thames               77                          77.0   \n",
      "\n",
      "    Percentage of covid cases(%) the highest medical conditions  \n",
      "20                      0.032484                   Hypertension  \n",
      "6                       0.034459                   Hypertension  \n",
      "5                       0.034703                   Hypertension  \n",
      "18                      0.036798                   Hypertension  \n",
      "26                      0.039105                   Hypertension  \n"
     ]
    }
   ],
   "source": [
    "#Medical conditions with the highest number patients in each London borough.\n",
    "#Founction to find the name of the column\n",
    "def find_colname(row):\n",
    "    dict = []\n",
    "    if row[\"the highest medical conditions\"] == row[\"Hypertension\"]:\n",
    "        dict.append(\"Hypertension\")\n",
    "    elif row[\"the highest medical conditions\"] == row[\"Obesity (18+)\"]:\n",
    "        dict.append(\"Obesity (18+)\")\n",
    "    elif row[\"the highest medical conditions\"] == row[\"Diabetes\"]:\n",
    "        dict.append(\"Diabetes\")\n",
    "    elif row[\"the highest medical conditions\"] == row[\"Asthma\"]:\n",
    "        dict.append(\"Asthma\")\n",
    "    return dict\n",
    "\n",
    "#find the name of medical conditions\n",
    "df_md_fre[\"the highest medical conditions\"] = df_md_fre.apply(lambda x: max(x[\"Hypertension\"],x[\"Obesity (18+)\"],x[\"Diabetes\"],x[\"Asthma\"]),axis=1)\n",
    "\n",
    "df_md_fre[\"medical conditions\"] = df_md_fre.apply(lambda x:find_colname(x),axis=1)\n",
    "df_md_fre[\"medical conditions\"] = [i for j in df_md_fre['medical conditions']for i in j]\n",
    "#add a new column to the dataframe from section 1.2: df_ca\n",
    "df_ca[\"the highest medical conditions\"] = df_md_fre[\"medical conditions\"]\n",
    "print(df_ca.head())"
   ]
  },
  {
   "cell_type": "code",
   "execution_count": 30,
   "metadata": {
    "pycharm": {
     "name": "#%%d"
    }
   },
   "outputs": [],
   "source": []
  }
 ],
 "metadata": {
  "kernelspec": {
   "display_name": "Python 3",
   "language": "python",
   "name": "python3"
  },
  "language_info": {
   "codemirror_mode": {
    "name": "ipython",
    "version": 3
   },
   "file_extension": ".py",
   "mimetype": "text/x-python",
   "name": "python",
   "nbconvert_exporter": "python",
   "pygments_lexer": "ipython3",
   "version": "3.7.0"
  }
 },
 "nbformat": 4,
 "nbformat_minor": 4
}
