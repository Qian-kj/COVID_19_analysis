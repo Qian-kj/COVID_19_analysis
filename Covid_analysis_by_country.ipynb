{
 "cells": [
  {
   "cell_type": "markdown",
   "metadata": {},
   "source": [
    "# Covid-19 analysis worldwide\n"
   ]
  },
  {
   "cell_type": "code",
   "execution_count": 1,
   "metadata": {},
   "outputs": [
    {
     "name": "stderr",
     "output_type": "stream",
     "text": [
      "In D:\\Asoftware\\Anaconda\\lib\\site-packages\\matplotlib\\mpl-data\\stylelib\\_classic_test.mplstyle: \n",
      "The text.latex.unicode rcparam was deprecated in Matplotlib 3.0 and will be removed in 3.2.\n",
      "In D:\\Asoftware\\Anaconda\\lib\\site-packages\\matplotlib\\mpl-data\\stylelib\\_classic_test.mplstyle: \n",
      "The savefig.frameon rcparam was deprecated in Matplotlib 3.1 and will be removed in 3.3.\n",
      "In D:\\Asoftware\\Anaconda\\lib\\site-packages\\matplotlib\\mpl-data\\stylelib\\_classic_test.mplstyle: \n",
      "The pgf.debug rcparam was deprecated in Matplotlib 3.0 and will be removed in 3.2.\n",
      "In D:\\Asoftware\\Anaconda\\lib\\site-packages\\matplotlib\\mpl-data\\stylelib\\_classic_test.mplstyle: \n",
      "The verbose.level rcparam was deprecated in Matplotlib 3.1 and will be removed in 3.3.\n",
      "In D:\\Asoftware\\Anaconda\\lib\\site-packages\\matplotlib\\mpl-data\\stylelib\\_classic_test.mplstyle: \n",
      "The verbose.fileo rcparam was deprecated in Matplotlib 3.1 and will be removed in 3.3.\n"
     ]
    }
   ],
   "source": [
    "import numpy as np\n",
    "import pandas as pd\n",
    "import matplotlib.pyplot as plt"
   ]
  },
  {
   "cell_type": "markdown",
   "metadata": {},
   "source": [
    "\n",
    "### 2.1: Reading in the datasets (2 marks)\n",
    "Read columns \"country, date, cases\" from file \"confirmed\\_cases\\_by\\_country.csv\" into a dataframe called \"cases\\_by\\_country\".\n",
    "Read columns \"is\\_china, date, cases\" from \"confirmed\\_cases\\_china\\_vs\\_world.csv\" into a dataframe called \"cases\\_all\". Rename the column \"is\\_china\" to \"country\" (hint you may use .rename()). Then split this dataframe into two new ones: cases in China (\"cases\\_china\") and cases elsewhere (\"cases\\_not\\_china\"). "
   ]
  },
  {
   "cell_type": "code",
   "execution_count": 2,
   "metadata": {},
   "outputs": [],
   "source": [
    "#import data from confirmed_cases_by_country\n",
    "dat_con = pd.read_csv('C:/Users/qiankj/Desktop/coursework2/data_for_part2/confirmed_cases_by_country.csv')\n",
    "df_con = pd.DataFrame(dat_con)\n",
    "#import data from confirmed_cases_china_vs_world\n",
    "dat_vs = pd.read_csv('C:/Users/qiankj/Desktop/coursework2/data_for_part2/confirmed_cases_china_vs_world.csv')\n",
    "df_vs = pd.DataFrame(dat_vs)"
   ]
  },
  {
   "cell_type": "code",
   "execution_count": 3,
   "metadata": {
    "pycharm": {
     "name": "#%%\n"
    }
   },
   "outputs": [
    {
     "name": "stdout",
     "output_type": "stream",
     "text": [
      "  country        date  cases\n",
      "0   China  2020-01-22    548\n",
      "1   China  2020-01-23     95\n",
      "2   China  2020-01-24    277\n",
      "3   China  2020-01-25    486\n",
      "4   China  2020-01-26    669\n",
      "      country        date  cases\n",
      "56  Not China  2020-01-22      7\n",
      "57  Not China  2020-01-23      3\n",
      "58  Not China  2020-01-24     11\n",
      "59  Not China  2020-01-25      7\n",
      "60  Not China  2020-01-26     15\n"
     ]
    },
    {
     "name": "stderr",
     "output_type": "stream",
     "text": [
      "D:\\Asoftware\\Anaconda\\lib\\site-packages\\pandas\\core\\frame.py:3781: SettingWithCopyWarning: \n",
      "A value is trying to be set on a copy of a slice from a DataFrame\n",
      "\n",
      "See the caveats in the documentation: http://pandas.pydata.org/pandas-docs/stable/indexing.html#indexing-view-versus-copy\n",
      "  return super(DataFrame, self).rename(**kwargs)\n"
     ]
    }
   ],
   "source": [
    "#Dataframe of cases by country\n",
    "cases_by_country = df_con[['country','date','cases']]\n",
    "#Dataframe of cases from 'china vs world.csv'\n",
    "cases_all = df_vs[['is_china','date','cases']]\n",
    "cases_all.rename(columns={'is_china':'country'}, inplace = True)\n",
    "#China cases\n",
    "cases_china = cases_all.loc[cases_all[\"country\"] == \"China\"]\n",
    "print(cases_china.head())\n",
    "#Cases in other countries\n",
    "cases_not_china = cases_all.loc[cases_all[\"country\"] == \"Not China\"]\n",
    "print(cases_not_china.head())"
   ]
  },
  {
   "cell_type": "markdown",
   "metadata": {},
   "source": [
    "### 2.2: Summarising the total number of confirmed cases by country (3 marks)\n",
    "Obtain the January records for \"cases\\_by\\_country\" and \"cases\\_china\" and summarise cases in China against cases in other countries in a dataframe for this month. Repeat this procedure for February and March. \n",
    "Create a bar plot to compare cases in China with cases in the 5 countries with most cases outside China for January, February and March. \n",
    "\n",
    "In January:"
   ]
  },
  {
   "cell_type": "code",
   "execution_count": 4,
   "metadata": {},
   "outputs": [
    {
     "data": {
      "image/png": "[encoded data removed]",
      "text/plain": [
       "<Figure size 432x288 with 1 Axes>"
      ]
     },
     "metadata": {
      "needs_background": "light"
     },
     "output_type": "display_data"
    }
   ],
   "source": [
    "#In China\n",
    "January_china = cases_china.loc[cases_china[\"date\"].str.contains(\"2020-01\")]\n",
    "#sum\n",
    "January_china = January_china.groupby([\"country\"],as_index = False)\n",
    "January_china = January_china[\"cases\"].aggregate(np.sum)\n",
    "\n",
    "#In other countries\n",
    "January_country = cases_by_country.loc[cases_by_country[\"date\"].str.contains(\"2020-01\")]\n",
    "#sum\n",
    "January_country = January_country.groupby([\"country\"],as_index = False)\n",
    "January_country = January_country[\"cases\"].aggregate(np.sum)\n",
    "#Sort values\n",
    "January_country = pd.DataFrame(January_country).sort_values(by=[\"cases\"],ascending=False)\n",
    "January_country = January_country.iloc[:5,:]\n",
    "\n",
    "#plot the bar chart\n",
    "plot_x_JanCountry = January_country[\"country\"]\n",
    "plot_y_JanCountry = January_country[\"cases\"]\n",
    "plot_x_JanChina = January_china[\"country\"]\n",
    "plot_y_JanChina = January_china[\"cases\"]\n",
    "plt.bar(plot_x_JanCountry,plot_y_JanCountry)\n",
    "plt.bar(plot_x_JanChina,plot_y_JanChina)\n",
    "plt.ylim(0,10000)\n",
    "plt.title(\"COVID-9 in China and others in January\")\n",
    "plt.xlabel('Country')\n",
    "plt.ylabel('Cases')\n",
    "plt.show()"
   ]
  },
  {
   "cell_type": "markdown",
   "metadata": {
    "pycharm": {
     "name": "#%% md\n"
    }
   },
   "source": [
    "In February:"
   ]
  },
  {
   "cell_type": "code",
   "execution_count": 5,
   "metadata": {},
   "outputs": [
    {
     "data": {
      "image/png": "[encoded data removed]",
      "text/plain": [
       "<Figure size 432x288 with 1 Axes>"
      ]
     },
     "metadata": {
      "needs_background": "light"
     },
     "output_type": "display_data"
    }
   ],
   "source": [
    "#In China\n",
    "Feb_china = cases_china.loc[cases_china[\"date\"].str.contains(\"2020-02\")]\n",
    "#sum\n",
    "Feb_china = Feb_china.groupby([\"country\"],as_index = False)\n",
    "Feb_china = Feb_china[\"cases\"].aggregate(np.sum)\n",
    "\n",
    "#In other countries\n",
    "Feb_country = cases_by_country.loc[cases_by_country[\"date\"].str.contains(\"2020-02\")]\n",
    "#sum\n",
    "Feb_country = Feb_country.groupby([\"country\"],as_index = False)\n",
    "Feb_country = Feb_country[\"cases\"].aggregate(np.sum)\n",
    "#Sort\n",
    "Feb_country = pd.DataFrame(Feb_country).sort_values(by=[\"cases\"],ascending=False)\n",
    "Feb_country = Feb_country.iloc[:5,:]\n",
    "\n",
    "#plot the bar chart\n",
    "plot_x_FebCountry = Feb_country[\"country\"]\n",
    "plot_y_FebCountry = Feb_country[\"cases\"]\n",
    "plot_x_FebChina = Feb_china[\"country\"]\n",
    "plot_y_FebChina = Feb_china[\"cases\"]\n",
    "plt.bar(plot_x_FebCountry,plot_y_FebCountry)\n",
    "plt.bar(plot_x_FebChina,plot_y_FebChina)\n",
    "plt.title(\"COVID-9 in China and others in February\")\n",
    "plt.xlabel('Country')\n",
    "plt.ylabel('Cases')\n",
    "plt.show()"
   ]
  },
  {
   "cell_type": "markdown",
   "metadata": {
    "pycharm": {
     "name": "#%% md\n"
    }
   },
   "source": [
    "In March:"
   ]
  },
  {
   "cell_type": "code",
   "execution_count": 6,
   "metadata": {
    "pycharm": {
     "name": "#%%\n"
    }
   },
   "outputs": [
    {
     "data": {
      "image/png": "[encoded data removed]",
      "text/plain": [
       "<Figure size 432x288 with 1 Axes>"
      ]
     },
     "metadata": {
      "needs_background": "light"
     },
     "output_type": "display_data"
    }
   ],
   "source": [
    "#In China\n",
    "March_china = cases_china.loc[cases_china[\"date\"].str.contains(\"2020-03\")]\n",
    "#sum\n",
    "March_china = March_china.groupby([\"country\"],as_index = False)\n",
    "March_china = March_china[\"cases\"].aggregate(np.sum)\n",
    "March_china = pd.DataFrame(March_china)\n",
    "\n",
    "#In other countries\n",
    "March_country = cases_by_country.loc[cases_by_country[\"date\"].str.contains(\"2020-03\")]\n",
    "#sum\n",
    "March_country = March_country.groupby([\"country\"],as_index = False)\n",
    "March_country = March_country[\"cases\"].aggregate(np.sum)\n",
    "#sort\n",
    "March_country = pd.DataFrame(March_country).sort_values(by=[\"cases\"],ascending=False)\n",
    "March_country = March_country.iloc[:5,:]\n",
    "\n",
    "#plot the bar chart\n",
    "plot_x_MarCountry = March_country[\"country\"]\n",
    "plot_y_MarCountry = March_country[\"cases\"]\n",
    "plot_x_MarChina = March_china[\"country\"]\n",
    "plot_y_MarChina = March_china[\"cases\"]\n",
    "plt.bar(plot_x_MarCountry,plot_y_MarCountry)\n",
    "plt.bar(plot_x_MarChina,plot_y_MarChina)\n",
    "plt.title(\"COVID-9 in China and others in March\")\n",
    "plt.xlabel('Country')\n",
    "plt.ylabel('ases')\n",
    "plt.show()"
   ]
  },
  {
   "cell_type": "markdown",
   "metadata": {},
   "source": [
    "### 2.3: Plotting the accumulated cases by date (2 marks)\n",
    "\n",
    "Add a new column called \"acc\\_cases\" in both  \"cases\\_not\\_china\" and \"cases\\_china\" dataframes, which contains the accumulated number of cases by date. Create a time series plot for \"acc\\_cases\" column in \"cases\\_not\\_china\" dataframe."
   ]
  },
  {
   "cell_type": "code",
   "execution_count": 7,
   "metadata": {},
   "outputs": [
    {
     "name": "stderr",
     "output_type": "stream",
     "text": [
      "D:\\Asoftware\\Anaconda\\lib\\site-packages\\ipykernel_launcher.py:3: SettingWithCopyWarning: \n",
      "A value is trying to be set on a copy of a slice from a DataFrame.\n",
      "Try using .loc[row_indexer,col_indexer] = value instead\n",
      "\n",
      "See the caveats in the documentation: http://pandas.pydata.org/pandas-docs/stable/indexing.html#indexing-view-versus-copy\n",
      "  This is separate from the ipykernel package so we can avoid doing imports until\n",
      "D:\\Asoftware\\Anaconda\\lib\\site-packages\\ipykernel_launcher.py:6: SettingWithCopyWarning: \n",
      "A value is trying to be set on a copy of a slice from a DataFrame.\n",
      "Try using .loc[row_indexer,col_indexer] = value instead\n",
      "\n",
      "See the caveats in the documentation: http://pandas.pydata.org/pandas-docs/stable/indexing.html#indexing-view-versus-copy\n",
      "  \n"
     ]
    },
    {
     "data": {
      "image/png": "[encoded data removed]",
      "text/plain": [
       "<Figure size 1296x1008 with 1 Axes>"
      ]
     },
     "metadata": {
      "needs_background": "light"
     },
     "output_type": "display_data"
    }
   ],
   "source": [
    "#cases in China\n",
    "cases_china['acc_cases']=cases_china['cases'].cumsum()\n",
    "\n",
    "#cases not in China\n",
    "cases_not_china['acc_cases']=cases_not_china['cases'].cumsum()\n",
    "#cases_not_china\n",
    "cases_china\n",
    "\n",
    "plot_x = cases_not_china[\"date\"]\n",
    "plot_y = cases_not_china[\"acc_cases\"]\n",
    "fig = plt.figure(figsize=(18,14))\n",
    "plt.tick_params(axis='x', labelsize=8)\n",
    "plt.xticks(rotation=-40)\n",
    "plt.title(\"The timeline of accumulative cases not in China\")\n",
    "plt.xlabel(\"Date\")\n",
    "plt.ylabel(\"Accumulative cases\")\n",
    "plt.plot(plot_x,plot_y)\n",
    "plt.show()"
   ]
  },
  {
   "cell_type": "code",
   "execution_count": 7,
   "metadata": {},
   "outputs": [],
   "source": []
  },
  {
   "cell_type": "markdown",
   "metadata": {},
   "source": [
    "### 2.4: Analysing across countries (3 marks)\n",
    "When the number of COVID-19 cases became higher than 10,000 in China, what was the number of cases for all other counties in that day? Print the 5 countries with highest number of cases. \n",
    "\n",
    "\n",
    "During the first 5 days that the daily cases in China dropped below 100, what is average number of cases for other countries? Report the top 5 countries with average number of cases."
   ]
  },
  {
   "cell_type": "code",
   "execution_count": 8,
   "metadata": {},
   "outputs": [
    {
     "name": "stdout",
     "output_type": "stream",
     "text": [
      "         country  cases\n",
      "123    Singapore      8\n",
      "150      Vietnam      1\n",
      "143           US      1\n",
      "85      Malaysia      1\n",
      "108  Philippines      0\n"
     ]
    }
   ],
   "source": [
    "#the date that cases higher than 10,000 in Chian\n",
    "cs_CHN = cases_china.loc[cases_china[\"cases\"]>10000]\n",
    "#cases in other countries that day\n",
    "country_for_max = cases_by_country.loc[cases_by_country[\"date\"] == cs_CHN.iloc[0,1]]\n",
    "#five countries with highest cases\n",
    "country_fv_max = country_for_max.groupby([\"country\"],as_index=False)\n",
    "country_fv_max = country_fv_max[\"cases\"].aggregate(np.sum)\n",
    "country_fv_max = pd.DataFrame(country_fv_max).sort_values(by=[\"cases\"],ascending=False)\n",
    "country_fv_max = country_fv_max.iloc[:5,:]\n",
    "print(country_fv_max)"
   ]
  },
  {
   "cell_type": "code",
   "execution_count": 9,
   "metadata": {},
   "outputs": [
    {
     "name": "stdout",
     "output_type": "stream",
     "text": [
      "   country        date  cases  acc_cases\n",
      "1    China  2020-01-23     95        643\n",
      "32   China  2020-02-23     21      77022\n",
      "45   China  2020-03-07     80      80770\n",
      "46   China  2020-03-08     53      80823\n",
      "47   China  2020-03-09     37      80860\n",
      "                      country   mean\n",
      "69                      Italy  925.8\n",
      "65                       Iran  485.8\n",
      "76               Korea, South  210.8\n",
      "128                     Spain  134.6\n",
      "48                     France  112.2\n",
      "51                    Germany  101.2\n",
      "143                        US   64.2\n",
      "98                Netherlands   38.6\n",
      "133               Switzerland   32.0\n",
      "146            United Kingdom   31.6\n",
      "132                    Sweden   29.4\n",
      "15                    Belgium   26.0\n",
      "71                      Japan   23.0\n",
      "102                    Norway   19.4\n",
      "9                     Austria   15.2\n",
      "39                    Denmark   13.6\n",
      "35                Cruise Ship   11.4\n",
      "42                      Egypt    8.0\n",
      "11                    Bahrain    7.0\n",
      "85                   Malaysia    6.8\n",
      "8                   Australia    6.2\n",
      "53                     Greece    5.6\n",
      "26                     Canada    5.6\n",
      "123                 Singapore    5.0\n",
      "68                     Israel    4.8\n",
      "66                       Iraq    4.0\n",
      "110                  Portugal    3.4\n",
      "150                   Vietnam    3.2\n",
      "145      United Arab Emirates    3.2\n",
      "47                    Finland    3.0\n",
      "..                        ...    ...\n",
      "44                    Estonia    0.0\n",
      "46                   Ethiopia    0.0\n",
      "27   Central African Republic    0.0\n",
      "49                      Gabon    0.0\n",
      "52                      Ghana    0.0\n",
      "54                  Greenland    0.0\n",
      "55                  Guatemala    0.0\n",
      "56                   Guernsey    0.0\n",
      "57                     Guinea    0.0\n",
      "60                   Honduras    0.0\n",
      "36                       Cuba    0.0\n",
      "81                    Liberia    0.0\n",
      "82              Liechtenstein    0.0\n",
      "83                  Lithuania    0.0\n",
      "105                    Panama    0.0\n",
      "59                   Holy See    0.0\n",
      "103                      Oman    0.0\n",
      "29                   Colombia    0.0\n",
      "101           North Macedonia    0.0\n",
      "30        Congo (Brazzaville)    0.0\n",
      "97                      Nepal    0.0\n",
      "96                    Namibia    0.0\n",
      "95                    Morocco    0.0\n",
      "94                 Montenegro    0.0\n",
      "93                   Mongolia    0.0\n",
      "92                     Monaco    0.0\n",
      "89                 Mauritania    0.0\n",
      "31           Congo (Kinshasa)    0.0\n",
      "33              Cote d'Ivoire    0.0\n",
      "75                      Kenya    0.0\n",
      "\n",
      "[151 rows x 2 columns]\n",
      "          country   mean\n",
      "69          Italy  925.8\n",
      "65           Iran  485.8\n",
      "76   Korea, South  210.8\n",
      "128         Spain  134.6\n",
      "48         France  112.2\n"
     ]
    }
   ],
   "source": [
    "#the first five days in China\n",
    "cs_CHN_100 = cases_china.loc[cases_china[\"cases\"]< 100]\n",
    "cs_CHN_100 = pd.DataFrame(cs_CHN_100).iloc[:5,:]\n",
    "print(cs_CHN_100)\n",
    "#creat a empty dataframe\n",
    "df_empty = pd.DataFrame()\n",
    "#every countries' cases for the five days\n",
    "for i in range(0,5):\n",
    "    country_for_average = cases_by_country.loc[cases_by_country[\"date\"] == cs_CHN_100.iloc[i,1]]\n",
    "    country_for_average = country_for_average.groupby([\"country\"],as_index = False)\n",
    "    country_for_average = country_for_average[\"cases\"].aggregate(np.sum)\n",
    "    df_empty['country'] = country_for_average['country']\n",
    "    df_empty[i] = country_for_average['cases']\n",
    "#calculate the mean of cases for each country\n",
    "df_empty[\"mean\"]=df_empty[[0,1,2,3,4]].mean(axis=1)\n",
    "df_mean=pd.DataFrame(columns=['country','mean'])\n",
    "df_mean['country'] = df_empty['country']\n",
    "df_mean['mean'] = df_empty['mean']\n",
    "df_mean=df_mean.sort_values(by=['mean'],ascending=False)\n",
    "print(df_mean)\n",
    "#top 5 countries with average number of cases\n",
    "df_fv_top=df_mean[0:5]\n",
    "print(df_fv_top)"
   ]
  },
  {
   "cell_type": "markdown",
   "metadata": {
    "pycharm": {
     "name": "#%% md\n"
    }
   },
   "source": [
    "The top five countries with average number of cases are shown as follows:\n",
    "\n",
    "| Rankings | Country | Mean |\n",
    "| :-----:| :----: | :----: |\n",
    "| 1 | Italy | 925.8 |\n",
    "| 2 | Iran | 485.8 |\n",
    "| 3 | Korea, South | 210.8 |\n",
    "| 4 | Spain | 134.6 |\n",
    "| 5 | France | 112.2 |\n",
    "\n"
   ]
  }
 ],
 "metadata": {
  "kernelspec": {
   "display_name": "Python 3",
   "language": "python",
   "name": "python3"
  },
  "language_info": {
   "codemirror_mode": {
    "name": "ipython",
    "version": 3
   },
   "file_extension": ".py",
   "mimetype": "text/x-python",
   "name": "python",
   "nbconvert_exporter": "python",
   "pygments_lexer": "ipython3",
   "version": "3.7.0"
  }
 },
 "nbformat": 4,
 "nbformat_minor": 4
}
